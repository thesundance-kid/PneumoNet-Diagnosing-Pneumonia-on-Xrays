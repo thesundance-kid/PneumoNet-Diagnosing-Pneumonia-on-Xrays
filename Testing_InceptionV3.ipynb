{
  "cells": [
    {
      "cell_type": "markdown",
      "metadata": {},
      "source": [
        "# Testing and Evaluation of Pneumonia Detection Model\n",
        "\n",
        "## Overview\n",
        "This notebook evaluates the trained InceptionV3 model for pneumonia detection and classification.\n",
        "\n",
        "### Results Summary\n",
        "- Three-way Classification Accuracy: 79.01%\n",
        "- Binary Classification Accuracy: 89.74%\n",
        "- Sensitivity: 99.23%\n",
        "- Specificity: 73.93%\n",
        "\n",
        "### Evaluation Metrics\n",
        "1. Three-way Classification (Normal/Bacterial/Viral)\n",
        "2. Binary Classification (Normal/Pneumonia)\n",
        "3. Sensitivity and Specificity Analysis\n",
        "4. Confusion Matrix Visualization\n",
        "\n",
        "### Clinical Implications\n",
        "- High sensitivity, specifically for detecting bacterial pneumonia, makes the model suitable for screening\n",
        "- Good differentiation between normal and pneumonia cases\n",
        "- Some confusion between bacterial and viral pneumonia types"
      ]
    },
    {
      "cell_type": "markdown",
      "metadata": {},
      "source": [
        "## 1. Setup\n",
        "\n",
        "Mount Google Drive and prepare environment."
      ]
    },
    {
      "cell_type": "code",
      "execution_count": 1,
      "metadata": {
        "colab": {
          "base_uri": "https://localhost:8080/"
        },
        "id": "fwwSZqS1Rkp_",
        "outputId": "0b460eca-92d2-4029-a0f7-4957d8e2f6ed"
      },
      "outputs": [
        {
          "name": "stdout",
          "output_type": "stream",
          "text": [
            "Mounted at /content/drive\n"
          ]
        }
      ],
      "source": [
        "from google.colab import drive\n",
        "drive.mount('/content/drive')"
      ]
    },
    {
      "cell_type": "code",
      "execution_count": 2,
      "metadata": {
        "id": "0FZ29w-PSaSq"
      },
      "outputs": [],
      "source": [
        "!cp -r /content/drive/MyDrive/datasets/test /content/test\n",
        "!cp -r /content/drive/MyDrive/datasets/train /content/train"
      ]
    },
    {
      "cell_type": "markdown",
      "metadata": {},
      "source": [
        "## 2. Model Loading\n",
        "\n",
        "Load the trained model with proper architecture configuration."
      ]
    },
    {
      "cell_type": "code",
      "execution_count": 3,
      "metadata": {
        "colab": {
          "base_uri": "https://localhost:8080/"
        },
        "id": "wEAywruyS9Ml",
        "outputId": "6ad1ef2b-c858-4bcb-9dce-0c9cc07a4e88"
      },
      "outputs": [
        {
          "name": "stderr",
          "output_type": "stream",
          "text": [
            "/usr/local/lib/python3.10/dist-packages/torchvision/models/_utils.py:208: UserWarning: The parameter 'pretrained' is deprecated since 0.13 and may be removed in the future, please use 'weights' instead.\n",
            "  warnings.warn(\n",
            "/usr/local/lib/python3.10/dist-packages/torchvision/models/_utils.py:223: UserWarning: Arguments other than a weight enum or `None` for 'weights' are deprecated since 0.13 and may be removed in the future. The current behavior is equivalent to passing `weights=Inception_V3_Weights.IMAGENET1K_V1`. You can also use `weights=Inception_V3_Weights.DEFAULT` to get the most up-to-date weights.\n",
            "  warnings.warn(msg)\n",
            "Downloading: \"https://download.pytorch.org/models/inception_v3_google-0cc3c7bd.pth\" to /root/.cache/torch/hub/checkpoints/inception_v3_google-0cc3c7bd.pth\n",
            "100%|██████████| 104M/104M [00:00<00:00, 146MB/s]\n"
          ]
        },
        {
          "data": {
            "text/plain": [
              "<torch.autograd.grad_mode.set_grad_enabled at 0x7d90ed1f5300>"
            ]
          },
          "execution_count": 3,
          "metadata": {},
          "output_type": "execute_result"
        }
      ],
      "source": [
        "import torch\n",
        "import torch.nn as nn\n",
        "from torchvision import models\n",
        "\n",
        "#Load Model in exact same setup as training\n",
        "model = models.inception_v3(pretrained=True)  # Use pretrained weights\n",
        "model.aux_logits = True\n",
        "\n",
        "# Freeze all parameters first\n",
        "for param in model.parameters():\n",
        "    param.requires_grad = False\n",
        "\n",
        "# Modify and unfreeze just the final layer\n",
        "num_ftrs = model.fc.in_features\n",
        "model.fc = nn.Linear(num_ftrs, 3)\n",
        "\n",
        "# Unfreeze only Mixed_7b, Mixed_7c, and fc layers\n",
        "for name, param in model.named_parameters():\n",
        "    if 'Mixed_7b' in name or 'Mixed_7c' in name or 'fc' in name:\n",
        "        param.requires_grad = True\n",
        "\n",
        "model.eval()  # Important!\n",
        "torch.set_grad_enabled(False)  # Also disable gradients during inference\n",
        "\n"
      ]
    },
    {
      "cell_type": "markdown",
      "metadata": {},
      "source": [
        "## 3. Data Preparation\n",
        "\n",
        "Prepare test dataset with appropriate normalization and transforms."
      ]
    },
    {
      "cell_type": "code",
      "execution_count": 4,
      "metadata": {
        "colab": {
          "base_uri": "https://localhost:8080/"
        },
        "id": "ilf_lhbefEk2",
        "outputId": "248d5c49-c1da-4883-ab47-ee5cbeca6fb2"
      },
      "outputs": [
        {
          "name": "stdout",
          "output_type": "stream",
          "text": [
            "Computed Mean: tensor([0.4823, 0.4823, 0.4823]), Std: tensor([0.2220, 0.2220, 0.2220])\n"
          ]
        }
      ],
      "source": [
        "\n",
        "import torch\n",
        "from torchvision import datasets, transforms\n",
        "from torch.utils.data import DataLoader\n",
        "\n",
        "# Load the training dataset with a simple transform to compute mean and std\n",
        "train_transform_simple = transforms.Compose([\n",
        "    transforms.Resize((299, 299)),\n",
        "    transforms.ToTensor()\n",
        "])\n",
        "\n",
        "train_dataset_simple = datasets.ImageFolder(root='/content/train', transform=train_transform_simple)\n",
        "train_loader_simple = DataLoader(train_dataset_simple, batch_size=32, shuffle=False, num_workers=2)\n",
        "\n",
        "def compute_mean_std(loader):\n",
        "    mean = 0.0\n",
        "    std = 0.0\n",
        "    total_images_count = 0\n",
        "    for images, _ in loader:\n",
        "        batch_samples = images.size(0)\n",
        "        images = images.view(batch_samples, images.size(1), -1)\n",
        "        mean += images.mean(2).sum(0)\n",
        "        std += images.std(2).sum(0)\n",
        "        total_images_count += batch_samples\n",
        "\n",
        "    mean /= total_images_count\n",
        "    std /= total_images_count\n",
        "    return mean, std\n",
        "\n",
        "mean, std = compute_mean_std(train_loader_simple)\n",
        "print(f'Computed Mean: {mean}, Std: {std}')"
      ]
    },
    {
      "cell_type": "code",
      "execution_count": null,
      "metadata": {
        "id": "rSQAn3lhTEBy"
      },
      "outputs": [],
      "source": [
        "# Load the weights\n",
        "model.load_state_dict(torch.load('/content/drive/MyDrive/datasets/Inception_1layer_nodropout_weights_3.pth'))\n",
        "\n",
        "# After loading weights:\n",
        "model.train(False)  # This ensures batch norm uses running statistics\n"
      ]
    },
    {
      "cell_type": "code",
      "execution_count": null,
      "metadata": {
        "id": "w3K_HTdgV17F"
      },
      "outputs": [],
      "source": [
        "# Print model parameter count before and after loading\n",
        "print(\"Model architecture:\")\n",
        "print(model)\n",
        "print(\"\\nTotal parameters:\", sum(p.numel() for p in model.parameters()))\n",
        "\n",
        "# Check a few sample weights to ensure they're not all zeros or random\n",
        "for name, param in model.fc.named_parameters():\n",
        "    print(f\"\\nFinal layer {name} stats:\")\n",
        "    print(\"Mean:\", param.data.mean().item())\n",
        "    print(\"Std:\", param.data.std().item())"
      ]
    },
    {
      "cell_type": "code",
      "execution_count": null,
      "metadata": {
        "id": "3EPKavPHUQWi"
      },
      "outputs": [],
      "source": [
        "# Define the device\n",
        "device = torch.device('cuda' if torch.cuda.is_available() else 'cpu')\n",
        "\n",
        "# Move the model to the device\n",
        "model.to(device)"
      ]
    },
    {
      "cell_type": "code",
      "execution_count": 8,
      "metadata": {
        "colab": {
          "base_uri": "https://localhost:8080/"
        },
        "id": "p8mz4LRRUe6T",
        "outputId": "74bc7e36-ad94-4262-eaa9-b4f543a52390"
      },
      "outputs": [
        {
          "name": "stdout",
          "output_type": "stream",
          "text": [
            "['a_normal_xrays', 'bacterial pneumonia', 'viral pneumonia']\n",
            "{'a_normal_xrays': 0, 'bacterial pneumonia': 1, 'viral pneumonia': 2}\n"
          ]
        }
      ],
      "source": [
        "# Apply the computed mean and std to both the train and test datasets for evaluation\n",
        "test_transform = transforms.Compose([\n",
        "    transforms.Resize((299, 299)),\n",
        "    transforms.ToTensor(),\n",
        "    transforms.Normalize(mean=mean.tolist(), std=std.tolist())  # Use computed mean and std\n",
        "])\n",
        "\n",
        "test_dataset = datasets.ImageFolder(root='/content/test', transform=test_transform)\n",
        "train_dataset = datasets.ImageFolder(root='/content/train', transform=test_transform)\n",
        "\n",
        "test_loader = DataLoader(test_dataset, batch_size=32, shuffle=False)\n",
        "train_loader = DataLoader(train_dataset, batch_size=32, shuffle=False)\n",
        "\n",
        "print(train_dataset.classes)\n",
        "print(test_dataset.class_to_idx)"
      ]
    },
    {
      "cell_type": "markdown",
      "metadata": {},
      "source": [
        "## 4. Model Evaluation Method\n",
        "\n",
        "Comprehensive evaluation including:\n",
        "- Confusion matrix generation\n",
        "- Multi-class metrics calculation\n",
        "- Binary classification metrics\n",
        "- Performance visualization"
      ]
    },
    {
      "cell_type": "code",
      "execution_count": 10,
      "metadata": {
        "id": "OacTrfsYRTZk"
      },
      "outputs": [],
      "source": [
        "import torch.nn.functional as F\n",
        "from sklearn.metrics import confusion_matrix, accuracy_score, recall_score\n",
        "import numpy as np\n",
        "import seaborn as sns\n",
        "import matplotlib.pyplot as plt\n",
        "\n",
        "def comprehensive_evaluation(model, test_loader, device):\n",
        "    model.eval()\n",
        "    all_predictions = []\n",
        "    all_labels = []\n",
        "\n",
        "    with torch.no_grad():\n",
        "        for images, labels in test_loader:\n",
        "            images, labels = images.to(device), labels.to(device)\n",
        "            outputs = model(images)\n",
        "            _, predicted = torch.max(outputs, 1)\n",
        "\n",
        "            all_predictions.extend(predicted.cpu().numpy())\n",
        "            all_labels.extend(labels.cpu().numpy())\n",
        "\n",
        "    # Convert to numpy arrays\n",
        "    all_predictions = np.array(all_predictions)\n",
        "    all_labels = np.array(all_labels)\n",
        "\n",
        "    # 1. Three-way classification metrics\n",
        "    conf_matrix = confusion_matrix(all_labels, all_predictions)\n",
        "    accuracy_3way = accuracy_score(all_labels, all_predictions)\n",
        "\n",
        "    # 2. Normal vs Any Pneumonia\n",
        "    # Convert predictions to binary (0 for normal, 1 for any pneumonia)\n",
        "    binary_labels = (all_labels > 0).astype(int)\n",
        "    binary_preds = (all_predictions > 0).astype(int)\n",
        "\n",
        "    accuracy_binary = accuracy_score(binary_labels, binary_preds)\n",
        "    sensitivity_binary = recall_score(binary_labels, binary_preds)  # Sensitivity is same as recall\n",
        "\n",
        "    # Calculate specificity manually (True Negatives / (True Negatives + False Positives))\n",
        "    tn, fp, fn, tp = confusion_matrix(binary_labels, binary_preds).ravel()\n",
        "    specificity_binary = tn / (tn + fp)\n",
        "\n",
        "    # 3. Bacterial vs Viral (only for pneumonia cases)\n",
        "    pneumonia_mask = (all_labels > 0)  # Only look at pneumonia cases\n",
        "    if np.any(pneumonia_mask):  # Check if there are any pneumonia cases\n",
        "        bacterial_viral_labels = all_labels[pneumonia_mask] - 1  # Subtract 1 to convert to 0/1\n",
        "        bacterial_viral_preds = all_predictions[pneumonia_mask] - 1\n",
        "        accuracy_bac_vir = accuracy_score(bacterial_viral_labels, bacterial_viral_preds)\n",
        "    else:\n",
        "        accuracy_bac_vir = None\n",
        "\n",
        "    # Print results\n",
        "    print(\"\\n=== Three-way Classification ===\")\n",
        "    print(f\"Overall Accuracy: {accuracy_3way*100:.2f}%\")\n",
        "\n",
        "    print(\"\\n=== Normal vs Any Pneumonia ===\")\n",
        "    print(f\"Accuracy: {accuracy_binary*100:.2f}%\")\n",
        "    print(f\"Sensitivity: {sensitivity_binary*100:.2f}%\")\n",
        "    print(f\"Specificity: {specificity_binary*100:.2f}%\")\n",
        "\n",
        "    print(\"\\n=== Bacterial vs Viral Pneumonia ===\")\n",
        "    if accuracy_bac_vir is not None:\n",
        "        print(f\"Accuracy: {accuracy_bac_vir*100:.2f}%\")\n",
        "\n",
        "    # Plot confusion matrix\n",
        "    plt.figure(figsize=(10, 8))\n",
        "    sns.heatmap(conf_matrix, annot=True, fmt='d', cmap='Blues',\n",
        "                xticklabels=['Normal', 'Bacterial', 'Viral'],\n",
        "                yticklabels=['Normal', 'Bacterial', 'Viral'])\n",
        "    plt.title('Confusion Matrix')\n",
        "    plt.ylabel('True Label')\n",
        "    plt.xlabel('Predicted Label')\n",
        "    plt.show()\n",
        "\n",
        "    return accuracy_3way, accuracy_binary, accuracy_bac_vir, conf_matrix"
      ]
    },
    {
      "cell_type": "markdown",
      "metadata": {},
      "source": [
        "## 5. Evaluate Model\n",
        "\n",
        "Comprehensive evaluation including:\n",
        "- Confusion matrix generation\n",
        "- Multi-class metrics calculation\n",
        "- Binary classification metrics\n",
        "- Performance visualization"
      ]
    },
    {
      "cell_type": "code",
      "execution_count": 11,
      "metadata": {
        "colab": {
          "base_uri": "https://localhost:8080/",
          "height": 914
        },
        "id": "-Rz_x_JbRjLt",
        "outputId": "46e494c5-0dee-457a-e984-73b8886302aa"
      },
      "outputs": [
        {
          "name": "stdout",
          "output_type": "stream",
          "text": [
            "\n",
            "=== Three-way Classification ===\n",
            "Overall Accuracy: 79.01%\n",
            "\n",
            "=== Normal vs Any Pneumonia ===\n",
            "Accuracy: 89.74%\n",
            "Sensitivity: 99.23%\n",
            "Specificity: 73.93%\n",
            "\n",
            "=== Bacterial vs Viral Pneumonia ===\n",
            "Accuracy: 82.05%\n"
          ]
        },
        {
          "data": {
            "image/png": "[encoded data removed]",
            "text/plain": [
              "<Figure size 1000x800 with 2 Axes>"
            ]
          },
          "metadata": {},
          "output_type": "display_data"
        }
      ],
      "source": [
        "\n",
        "# Call the evaluation function\n",
        "accuracy_3way, accuracy_binary, accuracy_bac_vir, conf_matrix = comprehensive_evaluation(model, test_loader, device)"
      ]
    }
  ],
  "metadata": {
    "accelerator": "GPU",
    "colab": {
      "gpuType": "T4",
      "provenance": []
    },
    "kernelspec": {
      "display_name": "Python 3",
      "name": "python3"
    },
    "language_info": {
      "name": "python"
    }
  },
  "nbformat": 4,
  "nbformat_minor": 0
}
